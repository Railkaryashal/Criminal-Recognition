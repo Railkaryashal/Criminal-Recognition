{
 "cells": [
  {
   "cell_type": "code",
   "execution_count": 7,
   "id": "41fdc7e5",
   "metadata": {},
   "outputs": [
    {
     "name": "stdout",
     "output_type": "stream",
     "text": [
      "Error downloading image: Invalid URL '/images/branding/searchlogo/1x/googlelogo_desk_heirloom_color_150x55dp.gif': No scheme supplied. Perhaps you meant http:///images/branding/searchlogo/1x/googlelogo_desk_heirloom_color_150x55dp.gif?\n",
      "Downloaded 20 images of El Chapo to ElChapo folder.\n"
     ]
    }
   ],
   "source": [
    "import requests\n",
    "from bs4 import BeautifulSoup\n",
    "import os\n",
    "\n",
    "def create_folder(folder_name):\n",
    "    if not os.path.exists(folder_name):\n",
    "        os.makedirs(folder_name)\n",
    "\n",
    "def download_images(celeb_name, folder_name, num_images, search_engine_url):\n",
    "    create_folder(folder_name)\n",
    "\n",
    "    # Format the celebrity name for the search query\n",
    "    query = celeb_name.replace(\" \", \"+\")\n",
    "\n",
    "    # Send a GET request to the search engine\n",
    "    url = f\"{search_engine_url}?q={query}&tbm=isch\"\n",
    "    response = requests.get(url)\n",
    "    response.raise_for_status()\n",
    "\n",
    "    # Parse the HTML response\n",
    "    soup = BeautifulSoup(response.text, \"html.parser\")\n",
    "\n",
    "    # Find and download the images\n",
    "    image_tags = soup.find_all(\"img\")\n",
    "    count = 0\n",
    "    for tag in image_tags:\n",
    "        image_url = tag.get(\"src\")\n",
    "        if image_url:\n",
    "            try:\n",
    "                # Send a GET request to download the image\n",
    "                image_response = requests.get(image_url)\n",
    "                image_response.raise_for_status()\n",
    "\n",
    "                # Save the image in the specified folder\n",
    "                with open(f\"{folder_name}/{celeb_name}_{count}.jpg\", \"wb\") as f:\n",
    "                    f.write(image_response.content)\n",
    "\n",
    "                count += 1\n",
    "                if count == num_images:\n",
    "                    break\n",
    "            except requests.exceptions.RequestException as e:\n",
    "                print(f\"Error downloading image: {e}\")\n",
    "\n",
    "    print(f\"Downloaded {count} images of {celeb_name} to {folder_name} folder.\")\n",
    "\n",
    "# Usage example\n",
    "celebrity_name = \"El Chapo\"\n",
    "folder = \"ElChapo\"\n",
    "num_images_to_download = 100\n",
    "search_engine_url = \"https://www.google.com/search\"  # Replace with the search engine URL\n",
    "\n",
    "download_images(celebrity_name, folder, num_images_to_download, search_engine_url)\n"
   ]
  },
  {
   "cell_type": "code",
   "execution_count": null,
   "id": "a10a71c5",
   "metadata": {},
   "outputs": [],
   "source": []
  }
 ],
 "metadata": {
  "kernelspec": {
   "display_name": "Python 3 (ipykernel)",
   "language": "python",
   "name": "python3"
  },
  "language_info": {
   "codemirror_mode": {
    "name": "ipython",
    "version": 3
   },
   "file_extension": ".py",
   "mimetype": "text/x-python",
   "name": "python",
   "nbconvert_exporter": "python",
   "pygments_lexer": "ipython3",
   "version": "3.9.12"
  }
 },
 "nbformat": 4,
 "nbformat_minor": 5
}
