{
 "cells": [
  {
   "cell_type": "code",
   "execution_count": 4,
   "id": "da347dae",
   "metadata": {},
   "outputs": [],
   "source": [
    "from PIL import Image\n",
    "import numpy as np\n",
    "import cv2\n",
    "import os\n",
    "import matplotlib.pyplot as plt\n",
    "%matplotlib inline"
   ]
  },
  {
   "cell_type": "code",
   "execution_count": 5,
   "id": "4093176b",
   "metadata": {},
   "outputs": [],
   "source": [
    "# Define the size to which you want to resize the images\n",
    "IMG_SIZE = (224,224)\n",
    "\n",
    "# Define the directory containing your dataset\n",
    "data_dir = \"./Dataset/ElChapo\"\n",
    "save_dir = \"./Dataset/Prepro4\"\n",
    "# Loop through all the images in the dataset directory\n",
    "for filename in os.listdir(data_dir):\n",
    "    if filename.endswith(\".jpg\") or filename.endswith(\".png\"):\n",
    "        # Open the image and resize it to the desired size\n",
    "        img = Image.open(os.path.join(data_dir, filename))\n",
    "        img = img.resize(IMG_SIZE)\n",
    "\n",
    "        # Convert the image to RGB\n",
    "        img = img.convert(\"RGB\")\n",
    "\n",
    "        # Convert the image to a numpy array and normalize the pixel values\n",
    "        img_arr = np.array(img) / 255.0\n",
    "        \n",
    "        save_filename=os.path.join(save_dir,filename)\n",
    "        np.save(save_filename, img_arr)"
   ]
  },
  {
   "cell_type": "code",
   "execution_count": null,
   "id": "399b939e",
   "metadata": {},
   "outputs": [],
   "source": []
  }
 ],
 "metadata": {
  "kernelspec": {
   "display_name": "Python 3 (ipykernel)",
   "language": "python",
   "name": "python3"
  },
  "language_info": {
   "codemirror_mode": {
    "name": "ipython",
    "version": 3
   },
   "file_extension": ".py",
   "mimetype": "text/x-python",
   "name": "python",
   "nbconvert_exporter": "python",
   "pygments_lexer": "ipython3",
   "version": "3.9.12"
  }
 },
 "nbformat": 4,
 "nbformat_minor": 5
}
